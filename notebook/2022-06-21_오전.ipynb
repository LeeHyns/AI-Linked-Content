{
 "cells": [
  {
   "cell_type": "markdown",
   "id": "804e033c-e5fa-478e-aecf-802d4405d293",
   "metadata": {},
   "source": [
    "# AI 연계교육 1일차\n",
    "\n",
    "* 2022-06-21 오전 코딩 파트\n",
    "* 수강자 이현수"
   ]
  },
  {
   "cell_type": "markdown",
   "id": "d62beb1a-e2be-4432-b049-5169fbdc7b82",
   "metadata": {},
   "source": [
    "컴퓨터 구조론 잠깐 설명. CPU-메모리-버스 이야기.\n",
    "인출 사이클 / 실행 사이클."
   ]
  },
  {
   "cell_type": "markdown",
   "id": "e9abafa5-39d1-4074-bb6d-2866e9882a3d",
   "metadata": {},
   "source": [
    "파이썬의 역사. 파이썬 설치 후 명령어 실행해보기\n",
    "print(\"hello\")"
   ]
  },
  {
   "cell_type": "code",
   "execution_count": 1,
   "id": "50eacd33-c586-4554-a27e-7c33a398c896",
   "metadata": {},
   "outputs": [
    {
     "name": "stdout",
     "output_type": "stream",
     "text": [
      "hello\n"
     ]
    }
   ],
   "source": [
    "print(\"hello\")"
   ]
  },
  {
   "cell_type": "markdown",
   "id": "187cf912",
   "metadata": {},
   "source": [
    "- 다양한 키워드\n",
    "- flase, none, true 등등\n",
    "\n",
    "키워드는 최소 의미를 가진 블록이다. 키워드로 모듈을 만들고, 모듈로 플랫폼을 만든다.\n",
    "로직 생성. if문 for, while 등 조건문으로 로직을 만든다.\n",
    "\n",
    "대부분의 api는 이미 만들어져있다.\n",
    "모듈 하나하나 구현보다 모듈을 어떻게 가져와서 어디에 적용할 것인가.\n",
    "모듈의 알고리즘을 파악하여 상황에 맞게 적용 목표."
   ]
  },
  {
   "cell_type": "markdown",
   "id": "d4320293",
   "metadata": {},
   "source": [
    "cmd에서 파이썬을 실행하고 py파일을 불러와 실행해봤다."
   ]
  },
  {
   "cell_type": "markdown",
   "id": "0fbc0bef",
   "metadata": {},
   "source": [
    "아나콘다를 설치하고 주피터 노트북을 사용해보자."
   ]
  },
  {
   "cell_type": "code",
   "execution_count": 2,
   "id": "895cc9f2-316f-4b47-b418-d73fdcb91f1a",
   "metadata": {},
   "outputs": [
    {
     "data": {
      "text/plain": [
       "16"
      ]
     },
     "execution_count": 2,
     "metadata": {},
     "output_type": "execute_result"
    }
   ],
   "source": [
    "4+5+7"
   ]
  }
 ],
 "metadata": {
  "kernelspec": {
   "display_name": "Python 3 (ipykernel)",
   "language": "python",
   "name": "python3"
  },
  "language_info": {
   "codemirror_mode": {
    "name": "ipython",
    "version": 3
   },
   "file_extension": ".py",
   "mimetype": "text/x-python",
   "name": "python",
   "nbconvert_exporter": "python",
   "pygments_lexer": "ipython3",
   "version": "3.9.12"
  }
 },
 "nbformat": 4,
 "nbformat_minor": 5
}
