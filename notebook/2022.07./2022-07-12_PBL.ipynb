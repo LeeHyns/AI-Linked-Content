{
 "cells": [
  {
   "cell_type": "markdown",
   "metadata": {},
   "source": [
    "# AI 연계교육 PBL 4일차\n",
    "\n",
    "* 2022-07-12\n",
    "* 수강자 이현수"
   ]
  },
  {
   "cell_type": "markdown",
   "metadata": {},
   "source": [
    "조교 2명 증원 예정. \n",
    "\n",
    "openCV관련 사이트. 이미지쪽 처리할 때 자주 사용하는 소스.\n",
    "\n",
    "넘파이, 사이킷런, 판다스. 텐서플로\n",
    "\n",
    "객체지향 클래스 이야기. 파일 입출력 관련 이야기. 서치 알고리즘\n",
    "\n",
    "이터레이터"
   ]
  },
  {
   "cell_type": "code",
   "execution_count": 4,
   "metadata": {},
   "outputs": [],
   "source": [
    "import tkinter\n",
    "top = tkinter.Tk()\n",
    "top.mainloop()"
   ]
  },
  {
   "cell_type": "code",
   "execution_count": 7,
   "metadata": {},
   "outputs": [],
   "source": [
    "from tkinter import *\n",
    "top = Tk()\n",
    "B =Button(top,width=10, height=10, text = \"push\")\n",
    "B.place(x=10,y=10)\n",
    "top.mainloop()"
   ]
  },
  {
   "cell_type": "code",
   "execution_count": 8,
   "metadata": {},
   "outputs": [],
   "source": [
    "from tkinter import *\n",
    "from tkinter import messagebox\n",
    "\n",
    "def Callhello():\n",
    "   msg = messagebox.showinfo( \"Hello Appia\",\"Welcome, please click ad\")\n",
    "\n",
    "top = Tk()\n",
    "B = Button( top,text = \"Push\", command = Callhello)\n",
    "B.place(x = 50,y = 50)\n",
    "top.mainloop()"
   ]
  },
  {
   "cell_type": "code",
   "execution_count": 10,
   "metadata": {},
   "outputs": [],
   "source": [
    "top = Tk()\n",
    "C = Canvas(top,bg = \"red\", height = 100, width = 200)\n",
    "C.pack()\n",
    "top.mainloop()"
   ]
  },
  {
   "cell_type": "code",
   "execution_count": 21,
   "metadata": {},
   "outputs": [],
   "source": [
    "root = Tk()\n",
    "frame = Frame(root)\n",
    "frame.pack()\n",
    "\n",
    "def CallT():\n",
    "    msg = messagebox.showinfo(\"\" ,\"상단을 누르셨습니다\")\n",
    "\n",
    "def CallL():\n",
    "    msg = messagebox.showinfo(\"\" ,\"좌측을 누르셨습니다\")\n",
    "    \n",
    "def CallR():\n",
    "    msg = messagebox.showinfo(\"\" ,\"우측을 누르셨습니다\")\n",
    "\n",
    "def CallB():\n",
    "    msg = messagebox.showinfo(\"\" ,\"하단을 누르셨습니다\")\n",
    "\n",
    "topbutton = Button(frame, text = \"Top\", command = CallT)\n",
    "topbutton.pack( side = TOP)\n",
    "\n",
    "leftbutton = Button(frame, text = \"Left\", command = CallL)\n",
    "leftbutton.pack( side = LEFT)\n",
    "\n",
    "rightbutton = Button(frame, text = \"Rigtht\", command = CallR)\n",
    "rightbutton.pack( side = RIGHT )\n",
    "\n",
    "letf1button = Button(frame, text = \"Letf1\", command = CallL)\n",
    "letf1button.pack( side = LEFT )\n",
    "\n",
    "bottombutton = Button(frame, text = \"Bottom\", command = CallB)\n",
    "bottombutton.pack( side = BOTTOM)\n",
    "\n",
    "abottombutton = Button(frame, text = \"Bottom1\", command = CallB)\n",
    "abottombutton.pack( side = BOTTOM)\n",
    "\n",
    "root.mainloop()"
   ]
  },
  {
   "cell_type": "markdown",
   "metadata": {},
   "source": [
    "각자 주말동안 뭐 진행했는지. 프로젝트 관련 찾아본 내용\n",
    "\n",
    "OpenCV관련 자료 공유. "
   ]
  },
  {
   "cell_type": "code",
   "execution_count": 20,
   "metadata": {},
   "outputs": [
    {
     "name": "stdout",
     "output_type": "stream",
     "text": [
      "<class 'tkinter.StringVar'>\n"
     ]
    }
   ],
   "source": [
    "from tkinter import ttk\n",
    "root = Tk()\n",
    "root.title(\"blog\")\n",
    "root.geometry(\"220x150\")\n",
    "root.resizable(0,0)\n",
    "\n",
    "def click():\n",
    "    cl = strs.get()\n",
    "    cl2 = strs2.get()\n",
    "    lbl4.configure(text=\"your age: \"+cl+\"\\n\"+\"your gen: \"+cl2)\n",
    "\n",
    "strs = StringVar() #변수선언\n",
    "strs2 = StringVar()\n",
    "\n",
    "lbl = Label(root,text=\"imformation program!\")\n",
    "lbl.grid(row=0,column=1)\n",
    "\n",
    "lbl2 = Label(root, text=\"age\", font=\"NanumGothic 10\")\n",
    "lbl2.grid(row=1, column=0)\n",
    "\n",
    "Combx1 = ttk.Combobox(textvariable=strs, width=20) #콤보박스 선언\n",
    "Combx1['value'] = ('10대','20대','30대','40대') #콤보박스 요소 삽입\n",
    "Combx1.current(0) #0번째로 콤보박스 초기화\n",
    "Combx1.grid(row=1,column=1) #콤보박스 배치\n",
    "\n",
    "lbl3 = Label(root, text=\"gen\", font=\"NanumGothic 10\")\n",
    "lbl3.grid(row=3, column=0)\n",
    "\n",
    "Combx2 = ttk.Combobox(textvariable=strs2, width=20)\n",
    "Combx2['value'] = ('남자','여자')\n",
    "Combx2.current(0)\n",
    "Combx2.grid(row=3,column=1)\n",
    "\n",
    "btn = Button(root, text=\"check\",command=click,width=6,height=1)\n",
    "btn.grid(row=4,column=1)\n",
    "\n",
    "lbl4 = Label(root, text=\"imformation\", font=\"NanumGothic 11\")\n",
    "lbl4.grid(row=5, column=1)\n",
    "print(type(strs))\n",
    "root.mainloop()"
   ]
  },
  {
   "cell_type": "markdown",
   "metadata": {},
   "source": [
    "엣지 추출 프로그램 모듈 살펴보기."
   ]
  },
  {
   "cell_type": "markdown",
   "metadata": {},
   "source": [
    "bitwise 연산. 다양한 필터\n",
    "\n",
    "opencv 예제 살피기."
   ]
  },
  {
   "cell_type": "code",
   "execution_count": null,
   "metadata": {},
   "outputs": [],
   "source": [
    "import cv2\n",
    "import numpy as np\n",
    "\n",
    "img = cv2.imread(\"C:\\\\Users\\\\kimrujin\\\\test\\\\lena.png\")\n",
    "gray = cv2.cvtColor(img, cv2.COLOR_BGR2GRAY)\n",
    "height, width = gray.shape\n",
    "\n",
    "mask1 = np.array([[0, -1, 0], [-1, 4, -1], [0, -1, 0]])\n",
    "mask2 = np.array([[1, 1, 1], [1, -8, 1], [1, 1, 1]])\n",
    "mask3 = np.array([[-1, -1, -1], [-1, 8, -1], [-1, -1, -1]])\n",
    "mask4 = np.array([[-1, 0, -1],[0, 4, 0],[-1, 0, -1]])\n",
    "\n",
    "laplacian1 = cv2.filter2D(gray, -1, mask1)\n",
    "laplacian2 = cv2.filter2D(gray, -1, mask2)\n",
    "laplacian3 = cv2.filter2D(gray, -1, mask3)\n",
    "laplacian4 = cv2.Laplacian(gray, -1)\n",
    "laplacian5 = cv2.filter2D(gray, -1, mask4)\n",
    "\n",
    "gaussian = cv2.GaussianBlur(gray, (5, 5), 0)\n",
    "LoG = cv2.filter2D(gaussian, -1, mask4)\n",
    "\n",
    "cv2.imshow('laplacian of gaussian', LoG.astype(np.float))\n",
    "cv2.waitKey(0)"
   ]
  },
  {
   "cell_type": "code",
   "execution_count": null,
   "metadata": {},
   "outputs": [],
   "source": []
  }
 ],
 "metadata": {
  "kernelspec": {
   "display_name": "Python 3",
   "language": "python",
   "name": "python3"
  },
  "language_info": {
   "codemirror_mode": {
    "name": "ipython",
    "version": 3
   },
   "file_extension": ".py",
   "mimetype": "text/x-python",
   "name": "python",
   "nbconvert_exporter": "python",
   "pygments_lexer": "ipython3",
   "version": "3.7.6"
  }
 },
 "nbformat": 4,
 "nbformat_minor": 4
}
